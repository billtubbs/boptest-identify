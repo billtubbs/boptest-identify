{
 "cells": [
  {
   "cell_type": "markdown",
   "metadata": {
    "vscode": {
     "languageId": "plaintext"
    }
   },
   "source": [
    "# Try Out The BOPTEST Building Simulator\n",
    "\n",
    "This is a basic demo of how to use the API to send/receive requests to the server.\n",
    "Based on the following Colab notebook provided in the documentation:\n",
    " - https://colab.research.google.com/github/ibpsa/project1-boptest/blob/master/docs/workshops/RlemWorkshop_20231112/Introduction_to_the_BOPTEST_framework.ipynb#scrollTo=rU_eIpcFZaVg"
   ]
  },
  {
   "cell_type": "code",
   "execution_count": 1,
   "metadata": {},
   "outputs": [],
   "source": [
    "import requests\n",
    "import numpy as np\n",
    "import pandas as pd\n",
    "import matplotlib.pyplot as plt"
   ]
  },
  {
   "cell_type": "markdown",
   "metadata": {},
   "source": [
    "### Request a connection to the BOPTEST server"
   ]
  },
  {
   "cell_type": "code",
   "execution_count": 2,
   "metadata": {},
   "outputs": [],
   "source": [
    "# url for the BOPTEST service\n",
    "url = 'http://api.boptest.net' \n",
    "\n",
    "# Select test case and get identifier\n",
    "testcase = 'bestest_hydronic_heat_pump'\n",
    "\n",
    "# Check if already started a test case and stop it if so before starting another\n",
    "try:\n",
    "    requests.put(f'{url}/stop/{testid}')\n",
    "except:\n",
    "    pass\n",
    "\n",
    "# Select and start a new test case\n",
    "testid = requests.post(f'{url}/testcases/{testcase}/select').json()['testid']"
   ]
  },
  {
   "cell_type": "markdown",
   "metadata": {},
   "source": [
    "### Inspect details of test case"
   ]
  },
  {
   "cell_type": "code",
   "execution_count": 3,
   "metadata": {},
   "outputs": [
    {
     "name": "stdout",
     "output_type": "stream",
     "text": [
      "{'name': 'bestest_hydronic_heat_pump'}\n",
      "{'version': '0.6.0', 'service-version': '0.4.3'}\n"
     ]
    }
   ],
   "source": [
    "name = requests.get('{0}/name/{1}'.format(url, testid)).json()['payload']\n",
    "print(name)\n",
    "\n",
    "version = requests.get('{0}/version'.format(url)).json()['payload']\n",
    "print(version)"
   ]
  },
  {
   "cell_type": "code",
   "execution_count": 4,
   "metadata": {},
   "outputs": [
    {
     "name": "stdout",
     "output_type": "stream",
     "text": [
      "Available inputs:\n",
      "['oveFan_activate', 'oveFan_u', 'oveHeaPumY_activate', 'oveHeaPumY_u', 'ovePum_activate', 'ovePum_u', 'oveTSet_activate', 'oveTSet_u']\n",
      "Available measurements:\n",
      "['reaCO2RooAir_y', 'reaCOP_y', 'reaPFan_y', 'reaPHeaPum_y', 'reaPPumEmi_y', 'reaQFloHea_y', 'reaQHeaPumCon_y', 'reaQHeaPumEva_y', 'reaTRet_y', 'reaTSetCoo_y', 'reaTSetHea_y', 'reaTSup_y', 'reaTZon_y', 'weaSta_reaWeaCeiHei_y', 'weaSta_reaWeaCloTim_y', 'weaSta_reaWeaHDifHor_y', 'weaSta_reaWeaHDirNor_y', 'weaSta_reaWeaHGloHor_y', 'weaSta_reaWeaHHorIR_y', 'weaSta_reaWeaLat_y', 'weaSta_reaWeaLon_y', 'weaSta_reaWeaNOpa_y', 'weaSta_reaWeaNTot_y', 'weaSta_reaWeaPAtm_y', 'weaSta_reaWeaRelHum_y', 'weaSta_reaWeaSolAlt_y', 'weaSta_reaWeaSolDec_y', 'weaSta_reaWeaSolHouAng_y', 'weaSta_reaWeaSolTim_y', 'weaSta_reaWeaSolZen_y', 'weaSta_reaWeaTBlaSky_y', 'weaSta_reaWeaTDewPoi_y', 'weaSta_reaWeaTDryBul_y', 'weaSta_reaWeaTWetBul_y', 'weaSta_reaWeaWinDir_y', 'weaSta_reaWeaWinSpe_y']\n"
     ]
    }
   ],
   "source": [
    "available_inputs = requests.get('{0}/inputs/{1}'.format(url, testid)).json()['payload']\n",
    "print('Available inputs:')\n",
    "print(list(available_inputs.keys()))\n",
    "\n",
    "available_measurements = requests.get('{0}/measurements/{1}'.format(url, testid)).json()['payload']\n",
    "print('Available measurements:')\n",
    "print(list(available_measurements.keys()))"
   ]
  },
  {
   "cell_type": "code",
   "execution_count": 5,
   "metadata": {},
   "outputs": [
    {
     "name": "stdout",
     "output_type": "stream",
     "text": [
      "Input 1: oveHeaPumY_u\n",
      "  Unit: 1\n",
      "  Description: Heat pump modulating signal for compressor speed between 0 (not working) and 1 (working at maximum capacity)\n",
      "  Minimum: 0\n",
      "  Maximum: 1\n",
      "\n",
      "Measurement 1: reaTZon_y\n",
      "  Unit: K\n",
      "  Description: Zone operative temperature\n",
      "  Minimum: None\n",
      "  Maximum: None\n",
      "\n"
     ]
    }
   ],
   "source": [
    "inputs = ['oveHeaPumY_u']\n",
    "measurements = ['reaTZon_y']\n",
    "\n",
    "nu = len(inputs)\n",
    "ny = len(measurements)\n",
    "\n",
    "for i, input in enumerate(inputs, start=1):\n",
    "    print(f\"Input {i}: {input}\")\n",
    "    info = available_inputs[input]\n",
    "    for name, value in info.items():\n",
    "        print(f\"  {name}: {value}\")\n",
    "    print()\n",
    "\n",
    "for i, measurement in enumerate(measurements, start=1):\n",
    "    print(f\"Measurement {i}: {measurement}\")\n",
    "    info = available_measurements[measurement]\n",
    "    for name, value in info.items():\n",
    "        print(f\"  {name}: {value}\")\n",
    "    print()"
   ]
  },
  {
   "cell_type": "markdown",
   "metadata": {},
   "source": [
    "### Initialize simulation and run warm-up phase"
   ]
  },
  {
   "cell_type": "code",
   "execution_count": 6,
   "metadata": {},
   "outputs": [
    {
     "name": "stdout",
     "output_type": "stream",
     "text": [
      "21.364471442540776\n",
      "31.0\n"
     ]
    }
   ],
   "source": [
    "y = requests.put(\n",
    "    f'{url}/initialize/{testid}', \n",
    "    json={\n",
    "        'start_time': 31 * 24 * 3600,\n",
    "        'warmup_period': 7 * 24 * 3600\n",
    "    }\n",
    ").json()['payload']\n",
    "print(y['reaTZon_y'] - 273.15)\n",
    "print(y['time'] / 24 / 3600)"
   ]
  },
  {
   "cell_type": "markdown",
   "metadata": {},
   "source": [
    "### Select test scenario"
   ]
  },
  {
   "cell_type": "code",
   "execution_count": 7,
   "metadata": {},
   "outputs": [],
   "source": [
    "scenario_return = requests.put(\n",
    "    f'{url}/scenario/{testid}', \n",
    "    json={\n",
    "        'time_period': 'peak_heat_day',\n",
    "        'electricity_price': 'dynamic'\n",
    "    }\n",
    ").json()['payload']\n"
   ]
  },
  {
   "cell_type": "code",
   "execution_count": 8,
   "metadata": {},
   "outputs": [
    {
     "data": {
      "text/plain": [
       "{'electricity_price': 'dynamic', 'time_period': 'peak_heat_day'}"
      ]
     },
     "execution_count": 8,
     "metadata": {},
     "output_type": "execute_result"
    }
   ],
   "source": [
    "scenario = requests.get(f'{url}/scenario/{testid}').json()['payload']\n",
    "scenario"
   ]
  },
  {
   "cell_type": "code",
   "execution_count": 9,
   "metadata": {},
   "outputs": [
    {
     "data": {
      "text/html": [
       "<div>\n",
       "<style scoped>\n",
       "    .dataframe tbody tr th:only-of-type {\n",
       "        vertical-align: middle;\n",
       "    }\n",
       "\n",
       "    .dataframe tbody tr th {\n",
       "        vertical-align: top;\n",
       "    }\n",
       "\n",
       "    .dataframe thead th {\n",
       "        text-align: right;\n",
       "    }\n",
       "</style>\n",
       "<table border=\"1\" class=\"dataframe\">\n",
       "  <thead>\n",
       "    <tr style=\"text-align: right;\">\n",
       "      <th></th>\n",
       "      <th>time</th>\n",
       "      <th>reaCO2RooAir_y</th>\n",
       "      <th>reaCOP_y</th>\n",
       "      <th>reaPFan_y</th>\n",
       "      <th>reaPHeaPum_y</th>\n",
       "      <th>reaPPumEmi_y</th>\n",
       "      <th>reaQFloHea_y</th>\n",
       "      <th>reaQHeaPumCon_y</th>\n",
       "      <th>reaQHeaPumEva_y</th>\n",
       "      <th>reaTRet_y</th>\n",
       "      <th>...</th>\n",
       "      <th>weaSta_reaWeaWinDir_y</th>\n",
       "      <th>weaSta_reaWeaWinSpe_y</th>\n",
       "      <th>oveFan_activate</th>\n",
       "      <th>oveFan_u</th>\n",
       "      <th>oveHeaPumY_activate</th>\n",
       "      <th>oveHeaPumY_u</th>\n",
       "      <th>ovePum_activate</th>\n",
       "      <th>ovePum_u</th>\n",
       "      <th>oveTSet_activate</th>\n",
       "      <th>oveTSet_u</th>\n",
       "    </tr>\n",
       "  </thead>\n",
       "  <tbody>\n",
       "    <tr>\n",
       "      <th>0</th>\n",
       "      <td>1382400</td>\n",
       "      <td>754.158301</td>\n",
       "      <td>3.096815</td>\n",
       "      <td>510.204082</td>\n",
       "      <td>2385.272769</td>\n",
       "      <td>20.498644</td>\n",
       "      <td>7445.444857</td>\n",
       "      <td>7386.747759</td>\n",
       "      <td>-5001.47499</td>\n",
       "      <td>302.400312</td>\n",
       "      <td>...</td>\n",
       "      <td>4.537856</td>\n",
       "      <td>3.6</td>\n",
       "      <td>0</td>\n",
       "      <td>1</td>\n",
       "      <td>0</td>\n",
       "      <td>0.628307</td>\n",
       "      <td>0</td>\n",
       "      <td>1</td>\n",
       "      <td>0</td>\n",
       "      <td>294.35</td>\n",
       "    </tr>\n",
       "  </tbody>\n",
       "</table>\n",
       "<p>1 rows × 45 columns</p>\n",
       "</div>"
      ],
      "text/plain": [
       "      time  reaCO2RooAir_y  reaCOP_y   reaPFan_y  reaPHeaPum_y  reaPPumEmi_y  \\\n",
       "0  1382400      754.158301  3.096815  510.204082   2385.272769     20.498644   \n",
       "\n",
       "   reaQFloHea_y  reaQHeaPumCon_y  reaQHeaPumEva_y   reaTRet_y  ...  \\\n",
       "0   7445.444857      7386.747759      -5001.47499  302.400312  ...   \n",
       "\n",
       "   weaSta_reaWeaWinDir_y  weaSta_reaWeaWinSpe_y  oveFan_activate  oveFan_u  \\\n",
       "0               4.537856                    3.6                0         1   \n",
       "\n",
       "   oveHeaPumY_activate  oveHeaPumY_u  ovePum_activate  ovePum_u  \\\n",
       "0                    0      0.628307                0         1   \n",
       "\n",
       "   oveTSet_activate  oveTSet_u  \n",
       "0                 0     294.35  \n",
       "\n",
       "[1 rows x 45 columns]"
      ]
     },
     "execution_count": 9,
     "metadata": {},
     "output_type": "execute_result"
    }
   ],
   "source": [
    "y = scenario_return['time_period']\n",
    "pd.DataFrame([y])"
   ]
  },
  {
   "cell_type": "code",
   "execution_count": 10,
   "metadata": {},
   "outputs": [],
   "source": [
    "# Record start time\n",
    "start_time_days = y['time'] / 24 / 3600"
   ]
  },
  {
   "cell_type": "markdown",
   "metadata": {},
   "source": [
    "## Simulation parameters"
   ]
  },
  {
   "cell_type": "code",
   "execution_count": 11,
   "metadata": {},
   "outputs": [
    {
     "name": "stdout",
     "output_type": "stream",
     "text": [
      "Default step period [seconds]: 3600\n",
      "Step period [seconds]: 3600\n"
     ]
    }
   ],
   "source": [
    "# Get default control step\n",
    "step = requests.get(f'{url}/step/{testid}').json()['payload']\n",
    "print(f'Default step period [seconds]: {step}')\n",
    "\n",
    "# Set the control step\n",
    "requests.put(f'{url}/step/{testid}', json={'step': step})\n",
    "print(f'Step period [seconds]: {step}')"
   ]
  },
  {
   "cell_type": "markdown",
   "metadata": {},
   "source": [
    "### Advancing the Simulation"
   ]
  },
  {
   "cell_type": "code",
   "execution_count": 12,
   "metadata": {},
   "outputs": [
    {
     "data": {
      "text/html": [
       "<div>\n",
       "<style scoped>\n",
       "    .dataframe tbody tr th:only-of-type {\n",
       "        vertical-align: middle;\n",
       "    }\n",
       "\n",
       "    .dataframe tbody tr th {\n",
       "        vertical-align: top;\n",
       "    }\n",
       "\n",
       "    .dataframe thead th {\n",
       "        text-align: right;\n",
       "    }\n",
       "</style>\n",
       "<table border=\"1\" class=\"dataframe\">\n",
       "  <thead>\n",
       "    <tr style=\"text-align: right;\">\n",
       "      <th></th>\n",
       "      <th>time</th>\n",
       "      <th>reaCO2RooAir_y</th>\n",
       "      <th>reaCOP_y</th>\n",
       "      <th>reaPFan_y</th>\n",
       "      <th>reaPHeaPum_y</th>\n",
       "      <th>reaPPumEmi_y</th>\n",
       "      <th>reaQFloHea_y</th>\n",
       "      <th>reaQHeaPumCon_y</th>\n",
       "      <th>reaQHeaPumEva_y</th>\n",
       "      <th>reaTRet_y</th>\n",
       "      <th>...</th>\n",
       "      <th>weaSta_reaWeaWinDir_y</th>\n",
       "      <th>weaSta_reaWeaWinSpe_y</th>\n",
       "      <th>oveFan_activate</th>\n",
       "      <th>oveFan_u</th>\n",
       "      <th>oveHeaPumY_activate</th>\n",
       "      <th>oveHeaPumY_u</th>\n",
       "      <th>ovePum_activate</th>\n",
       "      <th>ovePum_u</th>\n",
       "      <th>oveTSet_activate</th>\n",
       "      <th>oveTSet_u</th>\n",
       "    </tr>\n",
       "  </thead>\n",
       "  <tbody>\n",
       "    <tr>\n",
       "      <th>0</th>\n",
       "      <td>1386000</td>\n",
       "      <td>775.931175</td>\n",
       "      <td>2.987789</td>\n",
       "      <td>510.204082</td>\n",
       "      <td>2174.312092</td>\n",
       "      <td>20.498644</td>\n",
       "      <td>6604.990555</td>\n",
       "      <td>6496.386411</td>\n",
       "      <td>-4322.074319</td>\n",
       "      <td>302.178042</td>\n",
       "      <td>...</td>\n",
       "      <td>4.363323</td>\n",
       "      <td>3.1</td>\n",
       "      <td>0</td>\n",
       "      <td>1</td>\n",
       "      <td>0</td>\n",
       "      <td>0.528069</td>\n",
       "      <td>0</td>\n",
       "      <td>1</td>\n",
       "      <td>0</td>\n",
       "      <td>294.35</td>\n",
       "    </tr>\n",
       "  </tbody>\n",
       "</table>\n",
       "<p>1 rows × 45 columns</p>\n",
       "</div>"
      ],
      "text/plain": [
       "      time  reaCO2RooAir_y  reaCOP_y   reaPFan_y  reaPHeaPum_y  reaPPumEmi_y  \\\n",
       "0  1386000      775.931175  2.987789  510.204082   2174.312092     20.498644   \n",
       "\n",
       "   reaQFloHea_y  reaQHeaPumCon_y  reaQHeaPumEva_y   reaTRet_y  ...  \\\n",
       "0   6604.990555      6496.386411     -4322.074319  302.178042  ...   \n",
       "\n",
       "   weaSta_reaWeaWinDir_y  weaSta_reaWeaWinSpe_y  oveFan_activate  oveFan_u  \\\n",
       "0               4.363323                    3.1                0         1   \n",
       "\n",
       "   oveHeaPumY_activate  oveHeaPumY_u  ovePum_activate  ovePum_u  \\\n",
       "0                    0      0.528069                0         1   \n",
       "\n",
       "   oveTSet_activate  oveTSet_u  \n",
       "0                 0     294.35  \n",
       "\n",
       "[1 rows x 45 columns]"
      ]
     },
     "execution_count": 12,
     "metadata": {},
     "output_type": "execute_result"
    }
   ],
   "source": [
    "y = requests.post(f'{url}/advance/{testid}').json()['payload']\n",
    "pd.DataFrame([y])"
   ]
  },
  {
   "cell_type": "markdown",
   "metadata": {},
   "source": [
    "### Override the default controller"
   ]
  },
  {
   "cell_type": "code",
   "execution_count": 13,
   "metadata": {},
   "outputs": [
    {
     "data": {
      "text/html": [
       "<div>\n",
       "<style scoped>\n",
       "    .dataframe tbody tr th:only-of-type {\n",
       "        vertical-align: middle;\n",
       "    }\n",
       "\n",
       "    .dataframe tbody tr th {\n",
       "        vertical-align: top;\n",
       "    }\n",
       "\n",
       "    .dataframe thead th {\n",
       "        text-align: right;\n",
       "    }\n",
       "</style>\n",
       "<table border=\"1\" class=\"dataframe\">\n",
       "  <thead>\n",
       "    <tr style=\"text-align: right;\">\n",
       "      <th></th>\n",
       "      <th>time</th>\n",
       "      <th>reaCO2RooAir_y</th>\n",
       "      <th>reaCOP_y</th>\n",
       "      <th>reaPFan_y</th>\n",
       "      <th>reaPHeaPum_y</th>\n",
       "      <th>reaPPumEmi_y</th>\n",
       "      <th>reaQFloHea_y</th>\n",
       "      <th>reaQHeaPumCon_y</th>\n",
       "      <th>reaQHeaPumEva_y</th>\n",
       "      <th>reaTRet_y</th>\n",
       "      <th>...</th>\n",
       "      <th>weaSta_reaWeaWinDir_y</th>\n",
       "      <th>weaSta_reaWeaWinSpe_y</th>\n",
       "      <th>oveFan_activate</th>\n",
       "      <th>oveFan_u</th>\n",
       "      <th>oveHeaPumY_activate</th>\n",
       "      <th>oveHeaPumY_u</th>\n",
       "      <th>ovePum_activate</th>\n",
       "      <th>ovePum_u</th>\n",
       "      <th>oveTSet_activate</th>\n",
       "      <th>oveTSet_u</th>\n",
       "    </tr>\n",
       "  </thead>\n",
       "  <tbody>\n",
       "    <tr>\n",
       "      <th>0</th>\n",
       "      <td>1389600</td>\n",
       "      <td>789.137202</td>\n",
       "      <td>2.959832</td>\n",
       "      <td>510.204082</td>\n",
       "      <td>2111.125574</td>\n",
       "      <td>20.498644</td>\n",
       "      <td>6318.236445</td>\n",
       "      <td>6248.577127</td>\n",
       "      <td>-4137.451553</td>\n",
       "      <td>301.858367</td>\n",
       "      <td>...</td>\n",
       "      <td>4.363323</td>\n",
       "      <td>4.1</td>\n",
       "      <td>0</td>\n",
       "      <td>1</td>\n",
       "      <td>1</td>\n",
       "      <td>0.5</td>\n",
       "      <td>0</td>\n",
       "      <td>1</td>\n",
       "      <td>0</td>\n",
       "      <td>294.35</td>\n",
       "    </tr>\n",
       "  </tbody>\n",
       "</table>\n",
       "<p>1 rows × 45 columns</p>\n",
       "</div>"
      ],
      "text/plain": [
       "      time  reaCO2RooAir_y  reaCOP_y   reaPFan_y  reaPHeaPum_y  reaPPumEmi_y  \\\n",
       "0  1389600      789.137202  2.959832  510.204082   2111.125574     20.498644   \n",
       "\n",
       "   reaQFloHea_y  reaQHeaPumCon_y  reaQHeaPumEva_y   reaTRet_y  ...  \\\n",
       "0   6318.236445      6248.577127     -4137.451553  301.858367  ...   \n",
       "\n",
       "   weaSta_reaWeaWinDir_y  weaSta_reaWeaWinSpe_y  oveFan_activate  oveFan_u  \\\n",
       "0               4.363323                    4.1                0         1   \n",
       "\n",
       "   oveHeaPumY_activate  oveHeaPumY_u  ovePum_activate  ovePum_u  \\\n",
       "0                    1           0.5                0         1   \n",
       "\n",
       "   oveTSet_activate  oveTSet_u  \n",
       "0                 0     294.35  \n",
       "\n",
       "[1 rows x 45 columns]"
      ]
     },
     "execution_count": 13,
     "metadata": {},
     "output_type": "execute_result"
    }
   ],
   "source": [
    "u = {\n",
    "    'oveHeaPumY_u': 0.5,\n",
    "    'oveHeaPumY_activate': 1\n",
    "}\n",
    "y = requests.post(f'{url}/advance/{testid}', json=u).json()['payload']\n",
    "pd.DataFrame([y])"
   ]
  },
  {
   "cell_type": "markdown",
   "metadata": {},
   "source": [
    "### Inspect simulation results so far"
   ]
  },
  {
   "cell_type": "code",
   "execution_count": 14,
   "metadata": {},
   "outputs": [
    {
     "data": {
      "text/html": [
       "<div>\n",
       "<style scoped>\n",
       "    .dataframe tbody tr th:only-of-type {\n",
       "        vertical-align: middle;\n",
       "    }\n",
       "\n",
       "    .dataframe tbody tr th {\n",
       "        vertical-align: top;\n",
       "    }\n",
       "\n",
       "    .dataframe thead th {\n",
       "        text-align: right;\n",
       "    }\n",
       "</style>\n",
       "<table border=\"1\" class=\"dataframe\">\n",
       "  <thead>\n",
       "    <tr style=\"text-align: right;\">\n",
       "      <th></th>\n",
       "      <th>oveHeaPumY_u</th>\n",
       "      <th>reaTZon_y</th>\n",
       "      <th>time</th>\n",
       "    </tr>\n",
       "  </thead>\n",
       "  <tbody>\n",
       "    <tr>\n",
       "      <th>20396</th>\n",
       "      <td>0.5</td>\n",
       "      <td>294.565965</td>\n",
       "      <td>1389480</td>\n",
       "    </tr>\n",
       "    <tr>\n",
       "      <th>20397</th>\n",
       "      <td>0.5</td>\n",
       "      <td>294.565840</td>\n",
       "      <td>1389510</td>\n",
       "    </tr>\n",
       "    <tr>\n",
       "      <th>20398</th>\n",
       "      <td>0.5</td>\n",
       "      <td>294.565715</td>\n",
       "      <td>1389540</td>\n",
       "    </tr>\n",
       "    <tr>\n",
       "      <th>20399</th>\n",
       "      <td>0.5</td>\n",
       "      <td>294.565589</td>\n",
       "      <td>1389570</td>\n",
       "    </tr>\n",
       "    <tr>\n",
       "      <th>20400</th>\n",
       "      <td>0.5</td>\n",
       "      <td>294.565463</td>\n",
       "      <td>1389600</td>\n",
       "    </tr>\n",
       "  </tbody>\n",
       "</table>\n",
       "</div>"
      ],
      "text/plain": [
       "       oveHeaPumY_u   reaTZon_y     time\n",
       "20396           0.5  294.565965  1389480\n",
       "20397           0.5  294.565840  1389510\n",
       "20398           0.5  294.565715  1389540\n",
       "20399           0.5  294.565589  1389570\n",
       "20400           0.5  294.565463  1389600"
      ]
     },
     "execution_count": 14,
     "metadata": {},
     "output_type": "execute_result"
    }
   ],
   "source": [
    "args = {\n",
    "    'point_names': inputs + measurements,\n",
    "    'start_time': -365 * 24 * 3600, \n",
    "    'final_time': 365 * 24 *3600\n",
    "}\n",
    "\n",
    "res = requests.put(f'{url}/results/{testid}', json=args).json()['payload']\n",
    "res = pd.DataFrame(res)\n",
    "res.tail()"
   ]
  },
  {
   "cell_type": "code",
   "execution_count": 15,
   "metadata": {},
   "outputs": [
    {
     "data": {
      "image/png": "[encoded data removed]",
      "text/plain": [
       "<Figure size 700x350 with 2 Axes>"
      ]
     },
     "metadata": {},
     "output_type": "display_data"
    }
   ],
   "source": [
    "res['time'] = res['time'] / 24 / 3600\n",
    "res = res.set_index('time')\n",
    "\n",
    "ny = len(measurements)\n",
    "nu = len(inputs)\n",
    "fig, axes = plt.subplots(ny + nu, 1, sharex=True, figsize=(7, 0.5 + 1.5 * (ny + nu)))\n",
    "\n",
    "for ax, name in zip(axes[:ny], measurements):\n",
    "    res[name].plot(ax=ax, label=name)\n",
    "    ax.axvline(start_time_days, linestyle='--', color='r')\n",
    "    ax.set_ylabel('y')\n",
    "    ax.set_title(available_measurements[name]['Description'][:48])\n",
    "    ax.grid()\n",
    "\n",
    "for ax, name in zip(axes[ny:], inputs):\n",
    "    res[name].plot(ax=ax, label=name, drawstyle=\"steps-post\")\n",
    "    ax.axvline(start_time_days, linestyle='--', color='r')\n",
    "    ax.set_ylabel('u')\n",
    "    ax.set_title(available_inputs[name]['Description'][:48])\n",
    "    ax.grid()\n",
    "\n",
    "axes[-1].set_xlabel('Time (days)')\n",
    "\n",
    "plt.tight_layout()\n",
    "plt.show()"
   ]
  },
  {
   "cell_type": "markdown",
   "metadata": {},
   "source": [
    "### KPIs"
   ]
  },
  {
   "cell_type": "code",
   "execution_count": 16,
   "metadata": {},
   "outputs": [
    {
     "data": {
      "text/plain": [
       "{'tdis_tot': 0,\n",
       " 'idis_tot': 0,\n",
       " 'ener_tot': 0.028393274674119465,\n",
       " 'cost_tot': 0.0067661173548426694,\n",
       " 'emis_tot': 0.004741676870577952,\n",
       " 'pele_tot': 0.015044852343014026,\n",
       " 'pgas_tot': None,\n",
       " 'pdih_tot': None,\n",
       " 'time_rat': 3.759384155273438e-05}"
      ]
     },
     "execution_count": 16,
     "metadata": {},
     "output_type": "execute_result"
    }
   ],
   "source": [
    "# Note: The warmup period is not taken into account for the calculation of the KPIs.\n",
    "kpi_values = requests.get(f'{url}/kpi/{testid}').json()['payload']\n",
    "kpi_values"
   ]
  },
  {
   "cell_type": "code",
   "execution_count": null,
   "metadata": {},
   "outputs": [],
   "source": []
  },
  {
   "cell_type": "code",
   "execution_count": null,
   "metadata": {},
   "outputs": [],
   "source": []
  },
  {
   "cell_type": "code",
   "execution_count": null,
   "metadata": {},
   "outputs": [],
   "source": []
  }
 ],
 "metadata": {
  "kernelspec": {
   "display_name": "casadi",
   "language": "python",
   "name": "python3"
  },
  "language_info": {
   "codemirror_mode": {
    "name": "ipython",
    "version": 3
   },
   "file_extension": ".py",
   "mimetype": "text/x-python",
   "name": "python",
   "nbconvert_exporter": "python",
   "pygments_lexer": "ipython3",
   "version": "3.10.16"
  }
 },
 "nbformat": 4,
 "nbformat_minor": 2
}
