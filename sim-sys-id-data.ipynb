{
 "cells": [
  {
   "cell_type": "markdown",
   "metadata": {
    "vscode": {
     "languageId": "plaintext"
    }
   },
   "source": [
    "# Run The BOPTEST Building Simulator to Generate System Identification Data"
   ]
  },
  {
   "cell_type": "code",
   "execution_count": 1,
   "metadata": {},
   "outputs": [],
   "source": [
    "import os\n",
    "import yaml\n",
    "from tqdm import tqdm\n",
    "import requests\n",
    "import numpy as np\n",
    "import pandas as pd\n",
    "import matplotlib.pyplot as plt\n",
    "from plot_utils import make_ioplots"
   ]
  },
  {
   "cell_type": "code",
   "execution_count": 2,
   "metadata": {},
   "outputs": [],
   "source": [
    "data_dir = \"results\"\n",
    "os.makedirs(data_dir, exist_ok=True)"
   ]
  },
  {
   "cell_type": "markdown",
   "metadata": {},
   "source": [
    "### Request a connection to the BOPTEST server"
   ]
  },
  {
   "cell_type": "code",
   "execution_count": 3,
   "metadata": {},
   "outputs": [],
   "source": [
    "# url for the BOPTEST service\n",
    "url = 'http://api.boptest.net' \n",
    "\n",
    "# Select test case and get identifier\n",
    "testcase = 'bestest_hydronic_heat_pump'\n",
    "\n",
    "# If already started a test case, stop it before starting another\n",
    "try:\n",
    "    requests.put(f'{url}/stop/{testid}')\n",
    "except:\n",
    "    pass\n",
    "\n",
    "# Select and start a new test case\n",
    "testid = requests.post(f'{url}/testcases/{testcase}/select').json()['testid']"
   ]
  },
  {
   "cell_type": "markdown",
   "metadata": {},
   "source": [
    "### Inspect details of test case"
   ]
  },
  {
   "cell_type": "code",
   "execution_count": 4,
   "metadata": {},
   "outputs": [
    {
     "name": "stdout",
     "output_type": "stream",
     "text": [
      "{'name': 'bestest_hydronic_heat_pump'}\n",
      "{'version': '0.6.0', 'service-version': '0.4.3'}\n"
     ]
    }
   ],
   "source": [
    "name = requests.get('{0}/name/{1}'.format(url, testid)).json()['payload']\n",
    "print(name)\n",
    "\n",
    "version = requests.get('{0}/version'.format(url)).json()['payload']\n",
    "print(version)"
   ]
  },
  {
   "cell_type": "code",
   "execution_count": 5,
   "metadata": {},
   "outputs": [
    {
     "name": "stdout",
     "output_type": "stream",
     "text": [
      "Available inputs:\n",
      "['oveFan_activate', 'oveFan_u', 'oveHeaPumY_activate', 'oveHeaPumY_u', 'ovePum_activate', 'ovePum_u', 'oveTSet_activate', 'oveTSet_u']\n",
      "Available measurements:\n",
      "['reaCO2RooAir_y', 'reaCOP_y', 'reaPFan_y', 'reaPHeaPum_y', 'reaPPumEmi_y', 'reaQFloHea_y', 'reaQHeaPumCon_y', 'reaQHeaPumEva_y', 'reaTRet_y', 'reaTSetCoo_y', 'reaTSetHea_y', 'reaTSup_y', 'reaTZon_y', 'weaSta_reaWeaCeiHei_y', 'weaSta_reaWeaCloTim_y', 'weaSta_reaWeaHDifHor_y', 'weaSta_reaWeaHDirNor_y', 'weaSta_reaWeaHGloHor_y', 'weaSta_reaWeaHHorIR_y', 'weaSta_reaWeaLat_y', 'weaSta_reaWeaLon_y', 'weaSta_reaWeaNOpa_y', 'weaSta_reaWeaNTot_y', 'weaSta_reaWeaPAtm_y', 'weaSta_reaWeaRelHum_y', 'weaSta_reaWeaSolAlt_y', 'weaSta_reaWeaSolDec_y', 'weaSta_reaWeaSolHouAng_y', 'weaSta_reaWeaSolTim_y', 'weaSta_reaWeaSolZen_y', 'weaSta_reaWeaTBlaSky_y', 'weaSta_reaWeaTDewPoi_y', 'weaSta_reaWeaTDryBul_y', 'weaSta_reaWeaTWetBul_y', 'weaSta_reaWeaWinDir_y', 'weaSta_reaWeaWinSpe_y']\n"
     ]
    }
   ],
   "source": [
    "# Safe meta data\n",
    "\n",
    "available_inputs = requests.get('{0}/inputs/{1}'.format(url, testid)).json()['payload']\n",
    "print('Available inputs:')\n",
    "print(list(available_inputs.keys()))\n",
    "\n",
    "available_measurements = requests.get('{0}/measurements/{1}'.format(url, testid)).json()['payload']\n",
    "print('Available measurements:')\n",
    "print(list(available_measurements.keys()))\n",
    "\n",
    "filename = \"available_inputs.yaml\"\n",
    "with open(os.path.join(data_dir, filename), 'w') as f:\n",
    "    f.write(yaml.safe_dump(available_inputs))\n",
    "\n",
    "filename = \"available_measurements.yaml\"\n",
    "with open(os.path.join(data_dir, filename), 'w') as f:\n",
    "    f.write(yaml.safe_dump(available_measurements))"
   ]
  },
  {
   "cell_type": "code",
   "execution_count": 6,
   "metadata": {},
   "outputs": [
    {
     "data": {
      "text/html": [
       "<div>\n",
       "<style scoped>\n",
       "    .dataframe tbody tr th:only-of-type {\n",
       "        vertical-align: middle;\n",
       "    }\n",
       "\n",
       "    .dataframe tbody tr th {\n",
       "        vertical-align: top;\n",
       "    }\n",
       "\n",
       "    .dataframe thead th {\n",
       "        text-align: right;\n",
       "    }\n",
       "</style>\n",
       "<table border=\"1\" class=\"dataframe\">\n",
       "  <thead>\n",
       "    <tr style=\"text-align: right;\">\n",
       "      <th></th>\n",
       "      <th>Unit</th>\n",
       "      <th>Description</th>\n",
       "      <th>Minimum</th>\n",
       "      <th>Maximum</th>\n",
       "    </tr>\n",
       "  </thead>\n",
       "  <tbody>\n",
       "    <tr>\n",
       "      <th>reaCO2RooAir_y</th>\n",
       "      <td>ppm</td>\n",
       "      <td>CO2 concentration in the zone</td>\n",
       "      <td>None</td>\n",
       "      <td>None</td>\n",
       "    </tr>\n",
       "    <tr>\n",
       "      <th>reaCOP_y</th>\n",
       "      <td>1</td>\n",
       "      <td>Heat pump COP</td>\n",
       "      <td>None</td>\n",
       "      <td>None</td>\n",
       "    </tr>\n",
       "    <tr>\n",
       "      <th>reaPFan_y</th>\n",
       "      <td>W</td>\n",
       "      <td>Electrical power of the heat pump evaporator fan</td>\n",
       "      <td>None</td>\n",
       "      <td>None</td>\n",
       "    </tr>\n",
       "    <tr>\n",
       "      <th>reaPHeaPum_y</th>\n",
       "      <td>W</td>\n",
       "      <td>Heat pump electrical power</td>\n",
       "      <td>None</td>\n",
       "      <td>None</td>\n",
       "    </tr>\n",
       "    <tr>\n",
       "      <th>reaPPumEmi_y</th>\n",
       "      <td>W</td>\n",
       "      <td>Emission circuit pump electrical power</td>\n",
       "      <td>None</td>\n",
       "      <td>None</td>\n",
       "    </tr>\n",
       "    <tr>\n",
       "      <th>reaQFloHea_y</th>\n",
       "      <td>W</td>\n",
       "      <td>Floor heating thermal power released to the zone</td>\n",
       "      <td>None</td>\n",
       "      <td>None</td>\n",
       "    </tr>\n",
       "    <tr>\n",
       "      <th>reaQHeaPumCon_y</th>\n",
       "      <td>W</td>\n",
       "      <td>Heat pump thermal power exchanged in the conde...</td>\n",
       "      <td>None</td>\n",
       "      <td>None</td>\n",
       "    </tr>\n",
       "    <tr>\n",
       "      <th>reaQHeaPumEva_y</th>\n",
       "      <td>W</td>\n",
       "      <td>Heat pump thermal power exchanged in the evapo...</td>\n",
       "      <td>None</td>\n",
       "      <td>None</td>\n",
       "    </tr>\n",
       "    <tr>\n",
       "      <th>reaTRet_y</th>\n",
       "      <td>K</td>\n",
       "      <td>Return water temperature from radiant floor</td>\n",
       "      <td>None</td>\n",
       "      <td>None</td>\n",
       "    </tr>\n",
       "    <tr>\n",
       "      <th>reaTSetCoo_y</th>\n",
       "      <td>K</td>\n",
       "      <td>Zone operative temperature setpoint for cooling</td>\n",
       "      <td>None</td>\n",
       "      <td>None</td>\n",
       "    </tr>\n",
       "    <tr>\n",
       "      <th>reaTSetHea_y</th>\n",
       "      <td>K</td>\n",
       "      <td>Zone operative temperature setpoint for heating</td>\n",
       "      <td>None</td>\n",
       "      <td>None</td>\n",
       "    </tr>\n",
       "    <tr>\n",
       "      <th>reaTSup_y</th>\n",
       "      <td>K</td>\n",
       "      <td>Supply water temperature to radiant floor</td>\n",
       "      <td>None</td>\n",
       "      <td>None</td>\n",
       "    </tr>\n",
       "    <tr>\n",
       "      <th>reaTZon_y</th>\n",
       "      <td>K</td>\n",
       "      <td>Zone operative temperature</td>\n",
       "      <td>None</td>\n",
       "      <td>None</td>\n",
       "    </tr>\n",
       "    <tr>\n",
       "      <th>weaSta_reaWeaCeiHei_y</th>\n",
       "      <td>m</td>\n",
       "      <td>Cloud cover ceiling height measurement</td>\n",
       "      <td>None</td>\n",
       "      <td>None</td>\n",
       "    </tr>\n",
       "    <tr>\n",
       "      <th>weaSta_reaWeaCloTim_y</th>\n",
       "      <td>s</td>\n",
       "      <td>Day number with units of seconds</td>\n",
       "      <td>None</td>\n",
       "      <td>None</td>\n",
       "    </tr>\n",
       "    <tr>\n",
       "      <th>weaSta_reaWeaHDifHor_y</th>\n",
       "      <td>W/m2</td>\n",
       "      <td>Horizontal diffuse solar radiation measurement</td>\n",
       "      <td>None</td>\n",
       "      <td>None</td>\n",
       "    </tr>\n",
       "    <tr>\n",
       "      <th>weaSta_reaWeaHDirNor_y</th>\n",
       "      <td>W/m2</td>\n",
       "      <td>Direct normal radiation measurement</td>\n",
       "      <td>None</td>\n",
       "      <td>None</td>\n",
       "    </tr>\n",
       "    <tr>\n",
       "      <th>weaSta_reaWeaHGloHor_y</th>\n",
       "      <td>W/m2</td>\n",
       "      <td>Global horizontal solar irradiation measurement</td>\n",
       "      <td>None</td>\n",
       "      <td>None</td>\n",
       "    </tr>\n",
       "    <tr>\n",
       "      <th>weaSta_reaWeaHHorIR_y</th>\n",
       "      <td>W/m2</td>\n",
       "      <td>Horizontal infrared irradiation measurement</td>\n",
       "      <td>None</td>\n",
       "      <td>None</td>\n",
       "    </tr>\n",
       "    <tr>\n",
       "      <th>weaSta_reaWeaLat_y</th>\n",
       "      <td>rad</td>\n",
       "      <td>Latitude of the location</td>\n",
       "      <td>None</td>\n",
       "      <td>None</td>\n",
       "    </tr>\n",
       "    <tr>\n",
       "      <th>weaSta_reaWeaLon_y</th>\n",
       "      <td>rad</td>\n",
       "      <td>Longitude of the location</td>\n",
       "      <td>None</td>\n",
       "      <td>None</td>\n",
       "    </tr>\n",
       "    <tr>\n",
       "      <th>weaSta_reaWeaNOpa_y</th>\n",
       "      <td>1</td>\n",
       "      <td>Opaque sky cover measurement</td>\n",
       "      <td>None</td>\n",
       "      <td>None</td>\n",
       "    </tr>\n",
       "    <tr>\n",
       "      <th>weaSta_reaWeaNTot_y</th>\n",
       "      <td>1</td>\n",
       "      <td>Sky cover measurement</td>\n",
       "      <td>None</td>\n",
       "      <td>None</td>\n",
       "    </tr>\n",
       "    <tr>\n",
       "      <th>weaSta_reaWeaPAtm_y</th>\n",
       "      <td>Pa</td>\n",
       "      <td>Atmospheric pressure measurement</td>\n",
       "      <td>None</td>\n",
       "      <td>None</td>\n",
       "    </tr>\n",
       "    <tr>\n",
       "      <th>weaSta_reaWeaRelHum_y</th>\n",
       "      <td>1</td>\n",
       "      <td>Outside relative humidity measurement</td>\n",
       "      <td>None</td>\n",
       "      <td>None</td>\n",
       "    </tr>\n",
       "    <tr>\n",
       "      <th>weaSta_reaWeaSolAlt_y</th>\n",
       "      <td>rad</td>\n",
       "      <td>Solar altitude angle measurement</td>\n",
       "      <td>None</td>\n",
       "      <td>None</td>\n",
       "    </tr>\n",
       "    <tr>\n",
       "      <th>weaSta_reaWeaSolDec_y</th>\n",
       "      <td>rad</td>\n",
       "      <td>Solar declination angle measurement</td>\n",
       "      <td>None</td>\n",
       "      <td>None</td>\n",
       "    </tr>\n",
       "    <tr>\n",
       "      <th>weaSta_reaWeaSolHouAng_y</th>\n",
       "      <td>rad</td>\n",
       "      <td>Solar hour angle measurement</td>\n",
       "      <td>None</td>\n",
       "      <td>None</td>\n",
       "    </tr>\n",
       "    <tr>\n",
       "      <th>weaSta_reaWeaSolTim_y</th>\n",
       "      <td>s</td>\n",
       "      <td>Solar time</td>\n",
       "      <td>None</td>\n",
       "      <td>None</td>\n",
       "    </tr>\n",
       "    <tr>\n",
       "      <th>weaSta_reaWeaSolZen_y</th>\n",
       "      <td>rad</td>\n",
       "      <td>Solar zenith angle measurement</td>\n",
       "      <td>None</td>\n",
       "      <td>None</td>\n",
       "    </tr>\n",
       "    <tr>\n",
       "      <th>weaSta_reaWeaTBlaSky_y</th>\n",
       "      <td>K</td>\n",
       "      <td>Black-body sky temperature measurement</td>\n",
       "      <td>None</td>\n",
       "      <td>None</td>\n",
       "    </tr>\n",
       "    <tr>\n",
       "      <th>weaSta_reaWeaTDewPoi_y</th>\n",
       "      <td>K</td>\n",
       "      <td>Dew point temperature measurement</td>\n",
       "      <td>None</td>\n",
       "      <td>None</td>\n",
       "    </tr>\n",
       "    <tr>\n",
       "      <th>weaSta_reaWeaTDryBul_y</th>\n",
       "      <td>K</td>\n",
       "      <td>Outside drybulb temperature measurement</td>\n",
       "      <td>None</td>\n",
       "      <td>None</td>\n",
       "    </tr>\n",
       "    <tr>\n",
       "      <th>weaSta_reaWeaTWetBul_y</th>\n",
       "      <td>K</td>\n",
       "      <td>Wet bulb temperature measurement</td>\n",
       "      <td>None</td>\n",
       "      <td>None</td>\n",
       "    </tr>\n",
       "    <tr>\n",
       "      <th>weaSta_reaWeaWinDir_y</th>\n",
       "      <td>rad</td>\n",
       "      <td>Wind direction measurement</td>\n",
       "      <td>None</td>\n",
       "      <td>None</td>\n",
       "    </tr>\n",
       "    <tr>\n",
       "      <th>weaSta_reaWeaWinSpe_y</th>\n",
       "      <td>m/s</td>\n",
       "      <td>Wind speed measurement</td>\n",
       "      <td>None</td>\n",
       "      <td>None</td>\n",
       "    </tr>\n",
       "  </tbody>\n",
       "</table>\n",
       "</div>"
      ],
      "text/plain": [
       "                          Unit  \\\n",
       "reaCO2RooAir_y             ppm   \n",
       "reaCOP_y                     1   \n",
       "reaPFan_y                    W   \n",
       "reaPHeaPum_y                 W   \n",
       "reaPPumEmi_y                 W   \n",
       "reaQFloHea_y                 W   \n",
       "reaQHeaPumCon_y              W   \n",
       "reaQHeaPumEva_y              W   \n",
       "reaTRet_y                    K   \n",
       "reaTSetCoo_y                 K   \n",
       "reaTSetHea_y                 K   \n",
       "reaTSup_y                    K   \n",
       "reaTZon_y                    K   \n",
       "weaSta_reaWeaCeiHei_y        m   \n",
       "weaSta_reaWeaCloTim_y        s   \n",
       "weaSta_reaWeaHDifHor_y    W/m2   \n",
       "weaSta_reaWeaHDirNor_y    W/m2   \n",
       "weaSta_reaWeaHGloHor_y    W/m2   \n",
       "weaSta_reaWeaHHorIR_y     W/m2   \n",
       "weaSta_reaWeaLat_y         rad   \n",
       "weaSta_reaWeaLon_y         rad   \n",
       "weaSta_reaWeaNOpa_y          1   \n",
       "weaSta_reaWeaNTot_y          1   \n",
       "weaSta_reaWeaPAtm_y         Pa   \n",
       "weaSta_reaWeaRelHum_y        1   \n",
       "weaSta_reaWeaSolAlt_y      rad   \n",
       "weaSta_reaWeaSolDec_y      rad   \n",
       "weaSta_reaWeaSolHouAng_y   rad   \n",
       "weaSta_reaWeaSolTim_y        s   \n",
       "weaSta_reaWeaSolZen_y      rad   \n",
       "weaSta_reaWeaTBlaSky_y       K   \n",
       "weaSta_reaWeaTDewPoi_y       K   \n",
       "weaSta_reaWeaTDryBul_y       K   \n",
       "weaSta_reaWeaTWetBul_y       K   \n",
       "weaSta_reaWeaWinDir_y      rad   \n",
       "weaSta_reaWeaWinSpe_y      m/s   \n",
       "\n",
       "                                                                Description  \\\n",
       "reaCO2RooAir_y                                CO2 concentration in the zone   \n",
       "reaCOP_y                                                      Heat pump COP   \n",
       "reaPFan_y                  Electrical power of the heat pump evaporator fan   \n",
       "reaPHeaPum_y                                     Heat pump electrical power   \n",
       "reaPPumEmi_y                         Emission circuit pump electrical power   \n",
       "reaQFloHea_y               Floor heating thermal power released to the zone   \n",
       "reaQHeaPumCon_y           Heat pump thermal power exchanged in the conde...   \n",
       "reaQHeaPumEva_y           Heat pump thermal power exchanged in the evapo...   \n",
       "reaTRet_y                       Return water temperature from radiant floor   \n",
       "reaTSetCoo_y                Zone operative temperature setpoint for cooling   \n",
       "reaTSetHea_y                Zone operative temperature setpoint for heating   \n",
       "reaTSup_y                         Supply water temperature to radiant floor   \n",
       "reaTZon_y                                        Zone operative temperature   \n",
       "weaSta_reaWeaCeiHei_y                Cloud cover ceiling height measurement   \n",
       "weaSta_reaWeaCloTim_y                      Day number with units of seconds   \n",
       "weaSta_reaWeaHDifHor_y       Horizontal diffuse solar radiation measurement   \n",
       "weaSta_reaWeaHDirNor_y                  Direct normal radiation measurement   \n",
       "weaSta_reaWeaHGloHor_y      Global horizontal solar irradiation measurement   \n",
       "weaSta_reaWeaHHorIR_y           Horizontal infrared irradiation measurement   \n",
       "weaSta_reaWeaLat_y                                 Latitude of the location   \n",
       "weaSta_reaWeaLon_y                                Longitude of the location   \n",
       "weaSta_reaWeaNOpa_y                            Opaque sky cover measurement   \n",
       "weaSta_reaWeaNTot_y                                   Sky cover measurement   \n",
       "weaSta_reaWeaPAtm_y                        Atmospheric pressure measurement   \n",
       "weaSta_reaWeaRelHum_y                 Outside relative humidity measurement   \n",
       "weaSta_reaWeaSolAlt_y                      Solar altitude angle measurement   \n",
       "weaSta_reaWeaSolDec_y                   Solar declination angle measurement   \n",
       "weaSta_reaWeaSolHouAng_y                       Solar hour angle measurement   \n",
       "weaSta_reaWeaSolTim_y                                            Solar time   \n",
       "weaSta_reaWeaSolZen_y                        Solar zenith angle measurement   \n",
       "weaSta_reaWeaTBlaSky_y               Black-body sky temperature measurement   \n",
       "weaSta_reaWeaTDewPoi_y                    Dew point temperature measurement   \n",
       "weaSta_reaWeaTDryBul_y              Outside drybulb temperature measurement   \n",
       "weaSta_reaWeaTWetBul_y                     Wet bulb temperature measurement   \n",
       "weaSta_reaWeaWinDir_y                            Wind direction measurement   \n",
       "weaSta_reaWeaWinSpe_y                                Wind speed measurement   \n",
       "\n",
       "                         Minimum Maximum  \n",
       "reaCO2RooAir_y              None    None  \n",
       "reaCOP_y                    None    None  \n",
       "reaPFan_y                   None    None  \n",
       "reaPHeaPum_y                None    None  \n",
       "reaPPumEmi_y                None    None  \n",
       "reaQFloHea_y                None    None  \n",
       "reaQHeaPumCon_y             None    None  \n",
       "reaQHeaPumEva_y             None    None  \n",
       "reaTRet_y                   None    None  \n",
       "reaTSetCoo_y                None    None  \n",
       "reaTSetHea_y                None    None  \n",
       "reaTSup_y                   None    None  \n",
       "reaTZon_y                   None    None  \n",
       "weaSta_reaWeaCeiHei_y       None    None  \n",
       "weaSta_reaWeaCloTim_y       None    None  \n",
       "weaSta_reaWeaHDifHor_y      None    None  \n",
       "weaSta_reaWeaHDirNor_y      None    None  \n",
       "weaSta_reaWeaHGloHor_y      None    None  \n",
       "weaSta_reaWeaHHorIR_y       None    None  \n",
       "weaSta_reaWeaLat_y          None    None  \n",
       "weaSta_reaWeaLon_y          None    None  \n",
       "weaSta_reaWeaNOpa_y         None    None  \n",
       "weaSta_reaWeaNTot_y         None    None  \n",
       "weaSta_reaWeaPAtm_y         None    None  \n",
       "weaSta_reaWeaRelHum_y       None    None  \n",
       "weaSta_reaWeaSolAlt_y       None    None  \n",
       "weaSta_reaWeaSolDec_y       None    None  \n",
       "weaSta_reaWeaSolHouAng_y    None    None  \n",
       "weaSta_reaWeaSolTim_y       None    None  \n",
       "weaSta_reaWeaSolZen_y       None    None  \n",
       "weaSta_reaWeaTBlaSky_y      None    None  \n",
       "weaSta_reaWeaTDewPoi_y      None    None  \n",
       "weaSta_reaWeaTDryBul_y      None    None  \n",
       "weaSta_reaWeaTWetBul_y      None    None  \n",
       "weaSta_reaWeaWinDir_y       None    None  \n",
       "weaSta_reaWeaWinSpe_y       None    None  "
      ]
     },
     "execution_count": 6,
     "metadata": {},
     "output_type": "execute_result"
    }
   ],
   "source": [
    "pd.DataFrame(available_measurements).T"
   ]
  },
  {
   "cell_type": "code",
   "execution_count": 7,
   "metadata": {},
   "outputs": [
    {
     "name": "stdout",
     "output_type": "stream",
     "text": [
      "Input 1: oveHeaPumY_u\n",
      "  Unit: 1\n",
      "  Description: Heat pump modulating signal for compressor speed between 0 (not working) and 1 (working at maximum capacity)\n",
      "  Minimum: 0\n",
      "  Maximum: 1\n",
      "\n",
      "Measurement 1: reaTZon_y\n",
      "  Unit: K\n",
      "  Description: Zone operative temperature\n",
      "  Minimum: None\n",
      "  Maximum: None\n",
      "\n",
      "Measurement 2: weaSta_reaWeaTDryBul_y\n",
      "  Unit: K\n",
      "  Description: Outside drybulb temperature measurement\n",
      "  Minimum: None\n",
      "  Maximum: None\n",
      "\n",
      "Measurement 3: weaSta_reaWeaHDirNor_y\n",
      "  Unit: W/m2\n",
      "  Description: Direct normal radiation measurement\n",
      "  Minimum: None\n",
      "  Maximum: None\n",
      "\n"
     ]
    }
   ],
   "source": [
    "input_names = ['oveHeaPumY_u']\n",
    "measurement_names = ['reaTZon_y', 'weaSta_reaWeaTDryBul_y', 'weaSta_reaWeaHDirNor_y']\n",
    "\n",
    "nu = len(input_names)\n",
    "ny = len(measurement_names)\n",
    "\n",
    "for i, input in enumerate(input_names, start=1):\n",
    "    print(f\"Input {i}: {input}\")\n",
    "    info = available_inputs[input]\n",
    "    for name, value in info.items():\n",
    "        print(f\"  {name}: {value}\")\n",
    "    print()\n",
    "\n",
    "for i, measurement in enumerate(measurement_names, start=1):\n",
    "    print(f\"Measurement {i}: {measurement}\")\n",
    "    info = available_measurements[measurement]\n",
    "    for name, value in info.items():\n",
    "        print(f\"  {name}: {value}\")\n",
    "    print()"
   ]
  },
  {
   "cell_type": "markdown",
   "metadata": {},
   "source": [
    "## Run Simulations with pre-programmed input sequences"
   ]
  },
  {
   "cell_type": "code",
   "execution_count": 8,
   "metadata": {},
   "outputs": [],
   "source": [
    "def initialize_sim(url, testid, start_time, warmup_period):\n",
    "    \"\"\"Use this to initialize the simulation at a specific time.\"\"\"\n",
    "\n",
    "    y0 = requests.put(\n",
    "        f'{url}/initialize/{testid}', \n",
    "        json={\n",
    "            'start_time': start_time,\n",
    "            'warmup_period': warmup_period,\n",
    "        }\n",
    "    ).json()['payload']\n",
    "\n",
    "    return y0\n",
    "\n",
    "\n",
    "def initialize_test_scenario(url, testid, time_period, electricity_price):\n",
    "    \"\"\"Use this to initialize the simulation with one of the \n",
    "    prepared test scenarios.\n",
    "    \"\"\"\n",
    "\n",
    "    scenario_return = requests.put(\n",
    "        f'{url}/scenario/{testid}', \n",
    "        json={\n",
    "            'time_period': time_period,\n",
    "            'electricity_price': electricity_price\n",
    "        }\n",
    "    ).json()['payload']\n",
    "\n",
    "    y0 = scenario_return['time_period']\n",
    "\n",
    "    return y0\n",
    "\n",
    "\n",
    "def simulate_open_loop(\n",
    "        url, \n",
    "        testid, \n",
    "        U, \n",
    "        input_names, \n",
    "        step=None\n",
    "    ):\n",
    "\n",
    "    if step is None:\n",
    "        # Get default control step\n",
    "        step = requests.get(f'{url}/step/{testid}').json()['payload']\n",
    "    else:\n",
    "        # Set the control step\n",
    "        requests.put(f'{url}/step/{testid}', json={'step': step})\n",
    "\n",
    "    # Simulation loop\n",
    "    N = U.shape[0]\n",
    "    for k in tqdm(range(N)):\n",
    "        input_data = {}\n",
    "        for i, name in enumerate(input_names):\n",
    "            input_data[name] = U[k, i].item()\n",
    "            input_data[f\"{name.removesuffix('_u')}_activate\"] = 1\n",
    "        y = requests.post(f'{url}/advance/{testid}', json=input_data).json()['payload']\n",
    "        if y is None:\n",
    "            print(input_data)\n",
    "            raise ValueError(\"advance request failed\")\n",
    "\n",
    "    return y\n",
    "\n",
    "def download_sim_results(url, testid, point_names, start_time=-365 * 24 * 3600, final_time=365 * 24 * 3600):\n",
    "    args = {\n",
    "        'point_names': point_names,\n",
    "        'start_time': start_time, \n",
    "        'final_time': final_time\n",
    "    }\n",
    "    sim_results = requests.put(f'{url}/results/{testid}', json=args).json()['payload']\n",
    "    sim_results = pd.DataFrame(sim_results)\n",
    "    sim_results['time_days'] = sim_results['time'] / 24 / 3600\n",
    "    first_cols = ['time', 'time_days']\n",
    "    cols = first_cols + sorted(col for col in sim_results.columns if col not in first_cols)\n",
    "    sim_results = sim_results[cols]\n",
    "\n",
    "    return sim_results\n"
   ]
  },
  {
   "cell_type": "code",
   "execution_count": 9,
   "metadata": {},
   "outputs": [
    {
     "data": {
      "text/plain": [
       "4032"
      ]
     },
     "execution_count": 9,
     "metadata": {},
     "output_type": "execute_result"
    }
   ],
   "source": [
    "t_stop = 14 * 24 * 3600\n",
    "step = 5 * 60\n",
    "N = t_stop // step\n",
    "N"
   ]
  },
  {
   "cell_type": "code",
   "execution_count": 10,
   "metadata": {},
   "outputs": [
    {
     "data": {
      "text/plain": [
       "<Axes: >"
      ]
     },
     "execution_count": 10,
     "metadata": {},
     "output_type": "execute_result"
    },
    {
     "data": {
      "image/png": "[encoded data removed]",
      "text/plain": [
       "<Figure size 700x200 with 1 Axes>"
      ]
     },
     "metadata": {},
     "output_type": "display_data"
    }
   ],
   "source": [
    "# Hourly timesteps\n",
    "N_start = 12\n",
    "N12 = N // 12 - N_start\n",
    "\n",
    "nu = len(input_names)\n",
    "rng = np.random.RandomState(0)\n",
    "\n",
    "prbs1 = 0.5 * rng.randint(2, size=N12).astype('float64').reshape((N12, nu))\n",
    "prbs1 = np.concatenate([np.zeros((N_start, nu)), prbs1])\n",
    "prbs1 = np.repeat(prbs1, 12, axis=1).reshape((N, nu))\n",
    "pd.DataFrame(prbs1[:500, :]).plot(figsize=(7, 2))\n"
   ]
  },
  {
   "cell_type": "code",
   "execution_count": 11,
   "metadata": {},
   "outputs": [
    {
     "data": {
      "text/plain": [
       "<Axes: >"
      ]
     },
     "execution_count": 11,
     "metadata": {},
     "output_type": "execute_result"
    },
    {
     "data": {
      "image/png": "[encoded data removed]",
      "text/plain": [
       "<Figure size 700x200 with 1 Axes>"
      ]
     },
     "metadata": {},
     "output_type": "display_data"
    }
   ],
   "source": [
    "prbs2 = rng.choice([0.0, 0.5, 1.0], p=[0.5, 0.25, 0.25], size=N12).reshape((N12, nu))\n",
    "prbs2 = np.concatenate([np.zeros((N_start, nu)), prbs2])\n",
    "prbs2 = np.repeat(prbs2, 12, axis=1).reshape((N, nu))\n",
    "pd.DataFrame(prbs2[:500, :]).plot(figsize=(7, 2))"
   ]
  },
  {
   "cell_type": "code",
   "execution_count": 12,
   "metadata": {},
   "outputs": [
    {
     "name": "stdout",
     "output_type": "stream",
     "text": [
      "Initializing sim 'u0_0' ...\n",
      "Starting sim 'u0_0' ...\n"
     ]
    },
    {
     "name": "stderr",
     "output_type": "stream",
     "text": [
      "100%|██████████| 4032/4032 [06:17<00:00, 10.68it/s]\n"
     ]
    },
    {
     "name": "stdout",
     "output_type": "stream",
     "text": [
      "Sim results saved to 'sim_results_peak_heat_day_u0_0.csv'\n",
      "Initializing sim 'u_prbs1' ...\n",
      "Starting sim 'u_prbs1' ...\n"
     ]
    },
    {
     "name": "stderr",
     "output_type": "stream",
     "text": [
      "100%|██████████| 4032/4032 [06:23<00:00, 10.53it/s]\n"
     ]
    },
    {
     "name": "stdout",
     "output_type": "stream",
     "text": [
      "Sim results saved to 'sim_results_peak_heat_day_u_prbs1.csv'\n",
      "Initializing sim 'u_prbs2' ...\n",
      "Starting sim 'u_prbs2' ...\n"
     ]
    },
    {
     "name": "stderr",
     "output_type": "stream",
     "text": [
      "100%|██████████| 4032/4032 [06:11<00:00, 10.86it/s]\n"
     ]
    },
    {
     "name": "stdout",
     "output_type": "stream",
     "text": [
      "Sim results saved to 'sim_results_peak_heat_day_u_prbs2.csv'\n"
     ]
    }
   ],
   "source": [
    "# Simulation scenarios\n",
    "sim_input_sequences = {\n",
    "    'u0_0': {'inputs': np.zeros((N, nu)), 'time_period': 'peak_heat_day'},\n",
    "    # 'u0_5': {'inputs': np.full((N, nu), 0.5), 'time_period': 'peak_heat_day'},\n",
    "    # 'u1_0': {'inputs': np.ones((N, nu)), 'time_period': 'peak_heat_day'},\n",
    "    'u_prbs1': {\n",
    "        'inputs': prbs1, \n",
    "        'time_period': 'peak_heat_day'\n",
    "    },\n",
    "    'u_prbs2': {\n",
    "        'inputs': prbs2, \n",
    "        'time_period': 'peak_heat_day'\n",
    "    },\n",
    "}\n",
    "\n",
    "for sim_name, sim_inputs in sim_input_sequences.items():\n",
    "\n",
    "    assert sim_inputs['inputs'].shape == (N, nu)\n",
    "\n",
    "    print(f\"Initializing sim '{sim_name}' ...\")\n",
    "    #start_time = 16 * 24 * 3600\n",
    "    #warmup_period = 7 * 24 * 3600\n",
    "    #y = initialize_sim(url, testid, start_time, warmup_period)\n",
    "    time_period = sim_inputs['time_period']\n",
    "    electricity_price = 'dynamic'\n",
    "    y0 = initialize_test_scenario(url, testid, time_period, electricity_price)\n",
    "\n",
    "    print(f\"Starting sim '{sim_name}' ...\")\n",
    "    U = sim_inputs['inputs']\n",
    "    yf = simulate_open_loop(url, testid, U, input_names, step)\n",
    "\n",
    "    # Download sim results\n",
    "    point_names = input_names + measurement_names\n",
    "    sim_results = download_sim_results(url, testid, point_names)\n",
    "\n",
    "    # Save simulation results\n",
    "    filename = f\"sim_results_{time_period}_{sim_name}.csv\"\n",
    "    sim_results.to_csv(os.path.join(data_dir, filename))\n",
    "    print(f\"Sim results saved to {filename.__repr__()}\")\n"
   ]
  },
  {
   "cell_type": "markdown",
   "metadata": {},
   "source": [
    "### Inspect simulation results"
   ]
  },
  {
   "cell_type": "code",
   "execution_count": 13,
   "metadata": {},
   "outputs": [
    {
     "name": "stdout",
     "output_type": "stream",
     "text": [
      "<class 'pandas.core.frame.DataFrame'>\n",
      "RangeIndex: 60481 entries, 0 to 60480\n",
      "Data columns (total 7 columns):\n",
      " #   Column                  Non-Null Count  Dtype  \n",
      "---  ------                  --------------  -----  \n",
      " 0   Unnamed: 0              60481 non-null  int64  \n",
      " 1   time                    60481 non-null  int64  \n",
      " 2   time_days               60481 non-null  float64\n",
      " 3   oveHeaPumY_u            60481 non-null  float64\n",
      " 4   reaTZon_y               60481 non-null  float64\n",
      " 5   weaSta_reaWeaHDirNor_y  60481 non-null  float64\n",
      " 6   weaSta_reaWeaTDryBul_y  60481 non-null  float64\n",
      "dtypes: float64(5), int64(2)\n",
      "memory usage: 3.2 MB\n"
     ]
    }
   ],
   "source": [
    "sim_name = 'u_prbs2'\n",
    "time_period = 'peak_heat_day'\n",
    "\n",
    "filename = f\"sim_results_{time_period}_{sim_name}.csv\"\n",
    "sim_results = pd.read_csv(os.path.join(data_dir, filename))\n",
    "sim_results.info()"
   ]
  },
  {
   "cell_type": "code",
   "execution_count": 14,
   "metadata": {},
   "outputs": [
    {
     "data": {
      "image/png": "[encoded data removed]",
      "text/plain": [
       "<Figure size 700x650 with 4 Axes>"
      ]
     },
     "metadata": {},
     "output_type": "display_data"
    }
   ],
   "source": [
    "time_range = slice(16, None)\n",
    "\n",
    "fig, axes = make_ioplots(\n",
    "    sim_results, \n",
    "    input_names, \n",
    "    measurement_names, \n",
    "    available_inputs, \n",
    "    available_measurements, \n",
    "    time_range=None\n",
    ")\n",
    "plt.tight_layout()\n",
    "plt.show()"
   ]
  },
  {
   "cell_type": "markdown",
   "metadata": {},
   "source": [
    "### KPIs"
   ]
  },
  {
   "cell_type": "code",
   "execution_count": 15,
   "metadata": {},
   "outputs": [
    {
     "data": {
      "text/plain": [
       "{'tdis_tot': 144.78846816825228,\n",
       " 'idis_tot': 0,\n",
       " 'ener_tot': 2.5519056418701123,\n",
       " 'cost_tot': 0.6571161902488196,\n",
       " 'emis_tot': 0.42616824219230887,\n",
       " 'pele_tot': 0.021761234771494463,\n",
       " 'pgas_tot': None,\n",
       " 'pdih_tot': None,\n",
       " 'time_rat': 0.00027106533605585656}"
      ]
     },
     "execution_count": 15,
     "metadata": {},
     "output_type": "execute_result"
    }
   ],
   "source": [
    "# Note: The warmup period is not taken into account for the calculation of the KPIs.\n",
    "kpi_values = requests.get(f'{url}/kpi/{testid}').json()['payload']\n",
    "kpi_values"
   ]
  },
  {
   "cell_type": "code",
   "execution_count": null,
   "metadata": {},
   "outputs": [],
   "source": []
  },
  {
   "cell_type": "code",
   "execution_count": null,
   "metadata": {},
   "outputs": [],
   "source": []
  },
  {
   "cell_type": "code",
   "execution_count": null,
   "metadata": {},
   "outputs": [],
   "source": []
  }
 ],
 "metadata": {
  "kernelspec": {
   "display_name": "casadi",
   "language": "python",
   "name": "python3"
  },
  "language_info": {
   "codemirror_mode": {
    "name": "ipython",
    "version": 3
   },
   "file_extension": ".py",
   "mimetype": "text/x-python",
   "name": "python",
   "nbconvert_exporter": "python",
   "pygments_lexer": "ipython3",
   "version": "3.10.16"
  }
 },
 "nbformat": 4,
 "nbformat_minor": 2
}
